{
 "cells": [
  {
   "cell_type": "code",
   "execution_count": 1,
   "id": "3b9d053e",
   "metadata": {},
   "outputs": [
    {
     "name": "stderr",
     "output_type": "stream",
     "text": [
      "c:\\Users\\kuchh\\anaconda3\\envs\\MLP\\Lib\\site-packages\\tqdm\\auto.py:21: TqdmWarning: IProgress not found. Please update jupyter and ipywidgets. See https://ipywidgets.readthedocs.io/en/stable/user_install.html\n",
      "  from .autonotebook import tqdm as notebook_tqdm\n"
     ]
    }
   ],
   "source": [
    "from datasets import load_dataset"
   ]
  },
  {
   "cell_type": "code",
   "execution_count": 2,
   "id": "05da43c0",
   "metadata": {},
   "outputs": [
    {
     "name": "stderr",
     "output_type": "stream",
     "text": [
      "c:\\Users\\kuchh\\anaconda3\\envs\\MLP\\Lib\\importlib\\__init__.py:126: UserWarning: A NumPy version >=1.22.4 and <2.3.0 is required for this version of SciPy (detected version 2.3.2)\n",
      "  return _bootstrap._gcd_import(name[level:], package, level)\n"
     ]
    }
   ],
   "source": [
    "squad = load_dataset('squad_v2')"
   ]
  },
  {
   "cell_type": "code",
   "execution_count": 6,
   "id": "18ae3446",
   "metadata": {},
   "outputs": [
    {
     "data": {
      "text/plain": [
       "{'id': '56de71ee4396321400ee2913',\n",
       " 'title': 'Heresy',\n",
       " 'context': 'Another example of the persecution of heretics under Protestant rule was the execution of the Boston martyrs in 1659, 1660, and 1661. These executions resulted from the actions of the Anglican Puritans, who at that time wielded political as well as ecclesiastic control in the Massachusetts Bay Colony. At the time, the colony leaders were apparently hoping to achieve their vision of a \"purer absolute theocracy\" within their colony .[citation needed] As such, they perceived the teachings and practices of the rival Quaker sect as heretical, even to the point where laws were passed and executions were performed with the aim of ridding their colony of such perceived \"heresies\".[citation needed] It should be noticed that the Eastern Orthodox and Oriental Orthodox communions generally regard the Puritans themselves as having been heterodox or heretical.',\n",
       " 'question': 'What goal is cited as the reason these killings took place?',\n",
       " 'answers': {'text': ['purer absolute theocracy'], 'answer_start': [388]}}"
      ]
     },
     "execution_count": 6,
     "metadata": {},
     "output_type": "execute_result"
    }
   ],
   "source": [
    "squad['train'][12000]"
   ]
  }
 ],
 "metadata": {
  "kernelspec": {
   "display_name": "MLP",
   "language": "python",
   "name": "python3"
  },
  "language_info": {
   "codemirror_mode": {
    "name": "ipython",
    "version": 3
   },
   "file_extension": ".py",
   "mimetype": "text/x-python",
   "name": "python",
   "nbconvert_exporter": "python",
   "pygments_lexer": "ipython3",
   "version": "3.11.13"
  }
 },
 "nbformat": 4,
 "nbformat_minor": 5
}
